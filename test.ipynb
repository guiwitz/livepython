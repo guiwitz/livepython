{
 "cells": [
  {
   "cell_type": "markdown",
   "id": "46318a7f-4c7a-4e48-b966-94e017b8bc10",
   "metadata": {},
   "source": [
    "# This is my title\n",
    "\n",
    "This my **bold** text and here is *italic*.\n",
    "\n",
    "This is my first markdown cell.\n",
    "\n",
    "This is my list:\n",
    "\n",
    "- first itme\n",
    "- second item\n",
    "\n",
    "Here is [my link](https://conda.io/projects/conda/en/latest/user-guide/tasks/manage-environments.html#removing-an-environment)\n",
    "\n",
    "$\\omega^2 = \\sqrt(6)$"
   ]
  },
  {
   "cell_type": "code",
   "execution_count": 9,
   "id": "afbfa618-870d-4051-9be5-47ba9db0fc9f",
   "metadata": {},
   "outputs": [],
   "source": [
    "a = 7\n",
    "b = 6"
   ]
  },
  {
   "cell_type": "code",
   "execution_count": 4,
   "id": "94f8b1a7-3cd2-4386-b1f7-0f84698bd30b",
   "metadata": {},
   "outputs": [],
   "source": [
    "c = a + b"
   ]
  },
  {
   "cell_type": "code",
   "execution_count": 7,
   "id": "7da4c498-2df7-4fe3-8b5e-e6191a5725f8",
   "metadata": {},
   "outputs": [],
   "source": [
    "def myfun(a, b):\n",
    "    d = a + b\n",
    "    return d\n",
    "    "
   ]
  },
  {
   "cell_type": "code",
   "execution_count": 8,
   "id": "39bbd3cd-a527-4b8d-9228-3ed56b012799",
   "metadata": {},
   "outputs": [
    {
     "data": {
      "text/plain": [
       "7"
      ]
     },
     "execution_count": 8,
     "metadata": {},
     "output_type": "execute_result"
    }
   ],
   "source": [
    "myfun(3,4)"
   ]
  },
  {
   "cell_type": "markdown",
   "id": "9f737468-8851-439a-8535-ae0109dc1985",
   "metadata": {},
   "source": [
    "## my subtitle"
   ]
  },
  {
   "cell_type": "markdown",
   "id": "8287999c-90f4-4da5-a91f-b44cb4df8e28",
   "metadata": {},
   "source": [
    "This is my text"
   ]
  },
  {
   "cell_type": "code",
   "execution_count": 2,
   "id": "0dc9cbe8-7fa6-4546-bcab-16a9e644fcf7",
   "metadata": {},
   "outputs": [],
   "source": [
    "import numpy as np"
   ]
  },
  {
   "cell_type": "code",
   "execution_count": 4,
   "id": "5504dc37-06a8-4bf7-af2e-005490547d0f",
   "metadata": {},
   "outputs": [
    {
     "name": "stderr",
     "output_type": "stream",
     "text": [
      "Fontconfig warning: ignoring UTF-8: not a valid region tag\n"
     ]
    }
   ],
   "source": [
    "from microfilm import colorify"
   ]
  },
  {
   "cell_type": "code",
   "execution_count": null,
   "id": "0ead40db-9ad1-400c-8f6f-db96a2fee91f",
   "metadata": {},
   "outputs": [],
   "source": [
    "colorify.combine_image(image, proj_type)"
   ]
  }
 ],
 "metadata": {
  "kernelspec": {
   "display_name": "Python 3 (ipykernel)",
   "language": "python",
   "name": "python3"
  },
  "language_info": {
   "codemirror_mode": {
    "name": "ipython",
    "version": 3
   },
   "file_extension": ".py",
   "mimetype": "text/x-python",
   "name": "python",
   "nbconvert_exporter": "python",
   "pygments_lexer": "ipython3",
   "version": "3.9.18"
  }
 },
 "nbformat": 4,
 "nbformat_minor": 5
}
